{
 "cells": [
  {
   "cell_type": "code",
   "execution_count": 1,
   "metadata": {},
   "outputs": [
    {
     "name": "stdout",
     "output_type": "stream",
     "text": [
      "[PosixPath('/vol/bitbucket/ad6013/Research/CausalStructureNeuralProcess/ml2_meta_causal_discovery/experiments/causal_classification/models/finetune_lr1e-5_lrdecay0.95_epochs5_bs32_wd0'), PosixPath('/vol/bitbucket/ad6013/Research/CausalStructureNeuralProcess/ml2_meta_causal_discovery/experiments/causal_classification/models/finetune_lr1e-5_lrdecay0.95_epochs10_bs32_wd0'), PosixPath('/vol/bitbucket/ad6013/Research/CausalStructureNeuralProcess/ml2_meta_causal_discovery/experiments/causal_classification/models/finetune_lr1e-5_lrdecay0.95_epochs10_bs32_wd1e-5'), PosixPath('/vol/bitbucket/ad6013/Research/CausalStructureNeuralProcess/ml2_meta_causal_discovery/experiments/causal_classification/models/finetune_lr1e-5_lrdecay0.95_epochs5_bs32_wd1e-5'), PosixPath('/vol/bitbucket/ad6013/Research/CausalStructureNeuralProcess/ml2_meta_causal_discovery/experiments/causal_classification/models/finetune_lr1e-5_lrdecay0.9_epochs5_bs32_wd1e-4'), PosixPath('/vol/bitbucket/ad6013/Research/CausalStructureNeuralProcess/ml2_meta_causal_discovery/experiments/causal_classification/models/finetune_lr1e-5_lrdecay0.9_epochs10_bs32_wd1e-4'), PosixPath('/vol/bitbucket/ad6013/Research/CausalStructureNeuralProcess/ml2_meta_causal_discovery/experiments/causal_classification/models/finetune_lr1e-5_lrdecay0.99_epochs5_bs32_wd1e-4'), PosixPath('/vol/bitbucket/ad6013/Research/CausalStructureNeuralProcess/ml2_meta_causal_discovery/experiments/causal_classification/models/finetune_lr1e-5_lrdecay0.99_epochs10_bs32_wd0'), PosixPath('/vol/bitbucket/ad6013/Research/CausalStructureNeuralProcess/ml2_meta_causal_discovery/experiments/causal_classification/models/finetune_lr1e-5_lrdecay0.95_epochs5_bs32_wd1e-4'), PosixPath('/vol/bitbucket/ad6013/Research/CausalStructureNeuralProcess/ml2_meta_causal_discovery/experiments/causal_classification/models/finetune_lr1e-5_lrdecay0.95_epochs10_bs32_wd1e-4'), PosixPath('/vol/bitbucket/ad6013/Research/CausalStructureNeuralProcess/ml2_meta_causal_discovery/experiments/causal_classification/models/finetune_lr1e-5_lrdecay0.99_epochs5_bs32_wd1e-5'), PosixPath('/vol/bitbucket/ad6013/Research/CausalStructureNeuralProcess/ml2_meta_causal_discovery/experiments/causal_classification/models/finetune_lr1e-5_lrdecay0.9_epochs10_bs32_wd0'), PosixPath('/vol/bitbucket/ad6013/Research/CausalStructureNeuralProcess/ml2_meta_causal_discovery/experiments/causal_classification/models/finetune_lr1e-5_lrdecay0.9_epochs10_bs32_wd1e-5'), PosixPath('/vol/bitbucket/ad6013/Research/CausalStructureNeuralProcess/ml2_meta_causal_discovery/experiments/causal_classification/models/finetune_lr1e-5_lrdecay0.99_epochs5_bs32_wd0'), PosixPath('/vol/bitbucket/ad6013/Research/CausalStructureNeuralProcess/ml2_meta_causal_discovery/experiments/causal_classification/models/finetune_lr1e-5_lrdecay0.9_epochs5_bs32_wd0'), PosixPath('/vol/bitbucket/ad6013/Research/CausalStructureNeuralProcess/ml2_meta_causal_discovery/experiments/causal_classification/models/finetune_lr1e-5_lrdecay0.9_epochs5_bs32_wd1e-5')]\n"
     ]
    }
   ],
   "source": [
    "from pathlib import Path\n",
    "\n",
    "\n",
    "model_path = Path(\n",
    "    \"/vol/bitbucket/ad6013/Research/CausalStructureNeuralProcess/ml2_meta_causal_discovery/experiments/causal_classification/models\"\n",
    ")\n",
    "\n",
    "# List comprehension to find all directories containing 'finetune' in their name\n",
    "finetune_dirs = [d for d in model_path.iterdir() if d.is_dir() and 'finetune' in d.name]"
   ]
  },
  {
   "cell_type": "code",
   "execution_count": 7,
   "metadata": {},
   "outputs": [
    {
     "ename": "FileNotFoundError",
     "evalue": "[Errno 2] No such file or directory: '/vol/bitbucket/ad6013/Research/CausalStructureNeuralProcess/ml2_meta_causal_discovery/experiments/causal_classification/models/finetune_lr1e-5_lrdecay0.99_epochs10_bs32_wd0/metrics.json'",
     "output_type": "error",
     "traceback": [
      "\u001b[0;31m---------------------------------------------------------------------------\u001b[0m",
      "\u001b[0;31mFileNotFoundError\u001b[0m                         Traceback (most recent call last)",
      "Input \u001b[0;32mIn [7]\u001b[0m, in \u001b[0;36m<module>\u001b[0;34m\u001b[0m\n\u001b[1;32m     17\u001b[0m \u001b[38;5;28;01mfor\u001b[39;00m finetune_model \u001b[38;5;129;01min\u001b[39;00m finetune_dirs:\n\u001b[1;32m     18\u001b[0m     metric \u001b[38;5;241m=\u001b[39m finetune_model \u001b[38;5;241m/\u001b[39m \u001b[38;5;124m'\u001b[39m\u001b[38;5;124mmetrics.json\u001b[39m\u001b[38;5;124m'\u001b[39m\n\u001b[0;32m---> 19\u001b[0m     \u001b[38;5;28;01mwith\u001b[39;00m \u001b[38;5;28;43mopen\u001b[39;49m\u001b[43m(\u001b[49m\u001b[43mmetric\u001b[49m\u001b[43m,\u001b[49m\u001b[43m \u001b[49m\u001b[38;5;124;43m'\u001b[39;49m\u001b[38;5;124;43mr\u001b[39;49m\u001b[38;5;124;43m'\u001b[39;49m\u001b[43m)\u001b[49m \u001b[38;5;28;01mas\u001b[39;00m f:\n\u001b[1;32m     20\u001b[0m         metrics \u001b[38;5;241m=\u001b[39m json\u001b[38;5;241m.\u001b[39mload(f)\n\u001b[1;32m     21\u001b[0m     loss \u001b[38;5;241m=\u001b[39m metrics[\u001b[38;5;124m'\u001b[39m\u001b[38;5;124mtest_loss\u001b[39m\u001b[38;5;124m'\u001b[39m]\n",
      "\u001b[0;31mFileNotFoundError\u001b[0m: [Errno 2] No such file or directory: '/vol/bitbucket/ad6013/Research/CausalStructureNeuralProcess/ml2_meta_causal_discovery/experiments/causal_classification/models/finetune_lr1e-5_lrdecay0.99_epochs10_bs32_wd0/metrics.json'"
     ]
    }
   ],
   "source": [
    "import json\n",
    "\n",
    "def extract_params_from_name(name, params):\n",
    "    parts = name.split('_')\n",
    "    param_values = {}\n",
    "    for part in parts:\n",
    "        for param in params:\n",
    "            if part.startswith(param):\n",
    "                value = part[len(param):]\n",
    "                param_values[param] = value\n",
    "    return param_values\n",
    "\n",
    "# Parameters you want to extract\n",
    "params = ['lr', 'lrdecay', 'epochs', 'wd']\n",
    "\n",
    "all_test_losses = []\n",
    "for finetune_model in finetune_dirs:\n",
    "    metric = finetune_model / 'metrics.json'\n",
    "    with open(metric, 'r') as f:\n",
    "        metrics = json.load(f)\n",
    "    loss = metrics['test_loss']\n",
    "    all_test_losses.append(loss)\n",
    "\n"
   ]
  },
  {
   "cell_type": "code",
   "execution_count": 8,
   "metadata": {},
   "outputs": [
    {
     "data": {
      "text/plain": [
       "[0.2501419680232697,\n",
       " 0.25112752495928015,\n",
       " 0.25114151137940427,\n",
       " 0.2501598165073293,\n",
       " 0.25095069119904906,\n",
       " 0.2524400462178474,\n",
       " 0.24912566067056452]"
      ]
     },
     "execution_count": 8,
     "metadata": {},
     "output_type": "execute_result"
    }
   ],
   "source": [
    "all_test_losses"
   ]
  },
  {
   "cell_type": "code",
   "execution_count": 11,
   "metadata": {},
   "outputs": [
    {
     "data": {
      "text/plain": [
       "<matplotlib.collections.PathCollection at 0x717e1189ca30>"
      ]
     },
     "execution_count": 11,
     "metadata": {},
     "output_type": "execute_result"
    },
    {
     "data": {
      "image/png": "[encoded data removed]",
      "text/plain": [
       "<Figure size 432x288 with 1 Axes>"
      ]
     },
     "metadata": {
      "needs_background": "light"
     },
     "output_type": "display_data"
    }
   ],
   "source": [
    "import matplotlib.pyplot as plt\n",
    "import numpy as np\n",
    "\n",
    "\n",
    "plt.scatter(np.arange(len(all_test_losses)), all_test_losses)"
   ]
  },
  {
   "cell_type": "code",
   "execution_count": null,
   "metadata": {},
   "outputs": [],
   "source": []
  }
 ],
 "metadata": {
  "kernelspec": {
   "display_name": "np_causal_discovery_3.8",
   "language": "python",
   "name": "python3"
  },
  "language_info": {
   "codemirror_mode": {
    "name": "ipython",
    "version": 3
   },
   "file_extension": ".py",
   "mimetype": "text/x-python",
   "name": "python",
   "nbconvert_exporter": "python",
   "pygments_lexer": "ipython3",
   "version": "3.8.16"
  }
 },
 "nbformat": 4,
 "nbformat_minor": 2
}
