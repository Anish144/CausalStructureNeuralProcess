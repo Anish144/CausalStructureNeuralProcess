{
 "cells": [
  {
   "cell_type": "code",
   "execution_count": 2,
   "metadata": {},
   "outputs": [],
   "source": [
    "import json\n",
    "import math\n",
    "import os\n",
    "\n",
    "# Directory containing the JSON files\n",
    "directory = \"/vol/bitbucket/ad6013/Research/CausalStructureNeuralProcess/ml2_meta_causal_discovery/experiments/causal_classification/plotting\"\n",
    "\n",
    "# Loop through every .json file in the directory\n",
    "for filename in os.listdir(directory):\n",
    "    if filename.endswith(\".json\"):\n",
    "        # Load the JSON file\n",
    "        with open(os.path.join(directory, filename), \"r\") as file:\n",
    "            data = json.load(file)\n",
    "\n",
    "        # Calculate the square root of variance_of_mean and add it to the JSON file\n",
    "        for metric, methods in data.items():\n",
    "            for method, stats in methods.items():\n",
    "                stats[\"sqrt_variance_of_mean\"] = math.sqrt(stats[\"variance_of_mean\"])\n",
    "\n",
    "        # Write the updated JSON file\n",
    "        with open(os.path.join(directory, filename), \"w\") as file:\n",
    "            json.dump(data, file, indent=4)\n"
   ]
  },
  {
   "cell_type": "code",
   "execution_count": null,
   "metadata": {},
   "outputs": [],
   "source": []
  }
 ],
 "metadata": {
  "kernelspec": {
   "display_name": "np_causal_discovery_3.8",
   "language": "python",
   "name": "python3"
  },
  "language_info": {
   "codemirror_mode": {
    "name": "ipython",
    "version": 3
   },
   "file_extension": ".py",
   "mimetype": "text/x-python",
   "name": "python",
   "nbconvert_exporter": "python",
   "pygments_lexer": "ipython3",
   "version": "3.8.16"
  }
 },
 "nbformat": 4,
 "nbformat_minor": 2
}
